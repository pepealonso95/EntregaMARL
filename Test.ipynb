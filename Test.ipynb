{
 "cells": [
  {
   "cell_type": "code",
   "execution_count": 1,
   "metadata": {},
   "outputs": [],
   "source": [
    "from games.mp import MP \n",
    "from agents.random_agent import RandomAgent\n",
    "from agents.regretmatching_t import RegretMatching"
   ]
  },
  {
   "cell_type": "code",
   "execution_count": 2,
   "metadata": {},
   "outputs": [],
   "source": [
    "# Create game\n",
    "g = MP()"
   ]
  },
  {
   "cell_type": "code",
   "execution_count": 3,
   "metadata": {},
   "outputs": [],
   "source": [
    "# Reset game\n",
    "g.reset()"
   ]
  },
  {
   "cell_type": "code",
   "execution_count": 4,
   "metadata": {},
   "outputs": [],
   "source": [
    "# Create agents\n",
    "agent_0 = RandomAgent(game=g, agent=g.agents[0], seed=1)\n",
    "agent_1 = RegretMatching(game=g, agent=g.agents[1], seed=2)\n"
   ]
  },
  {
   "cell_type": "code",
   "execution_count": 5,
   "metadata": {},
   "outputs": [
    {
     "name": "stdout",
     "output_type": "stream",
     "text": [
      "Play 0\n",
      "agent_0 H -1.0\n",
      "agent_1 T 1.0\n",
      "Play 1\n",
      "agent_0 T 1.0\n",
      "agent_1 T -1.0\n",
      "Play 2\n",
      "agent_0 H -1.0\n",
      "agent_1 T 1.0\n",
      "Play 3\n",
      "agent_0 H 1.0\n",
      "agent_1 H -1.0\n",
      "Play 4\n",
      "agent_0 H -1.0\n",
      "agent_1 T 1.0\n",
      "Play 5\n",
      "agent_0 H -1.0\n",
      "agent_1 T 1.0\n",
      "Play 6\n",
      "agent_0 T 1.0\n",
      "agent_1 T -1.0\n",
      "Play 7\n",
      "agent_0 T 1.0\n",
      "agent_1 T -1.0\n",
      "Play 8\n",
      "agent_0 H -1.0\n",
      "agent_1 T 1.0\n",
      "Play 9\n",
      "agent_0 T 1.0\n",
      "agent_1 T -1.0\n"
     ]
    }
   ],
   "source": [
    "for i in range(10):\n",
    "    action_0 = agent_0.action()\n",
    "    action_1 = agent_1.action()\n",
    "    actions = {agent_0.agent: action_0, agent_1.agent: action_1}\n",
    "    g.step(actions)\n",
    "    print(f\"Play {i}\")\n",
    "    g.render()"
   ]
  }
 ],
 "metadata": {
  "kernelspec": {
   "display_name": "py311",
   "language": "python",
   "name": "python3"
  },
  "language_info": {
   "codemirror_mode": {
    "name": "ipython",
    "version": 3
   },
   "file_extension": ".py",
   "mimetype": "text/x-python",
   "name": "python",
   "nbconvert_exporter": "python",
   "pygments_lexer": "ipython3",
   "version": "3.11.11"
  },
  "orig_nbformat": 4
 },
 "nbformat": 4,
 "nbformat_minor": 2
}
