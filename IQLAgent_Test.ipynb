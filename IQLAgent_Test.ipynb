{
 "cells": [
  {
   "cell_type": "markdown",
   "id": "fdb1b06b",
   "metadata": {},
   "source": [
    "# Sanity check del notebook para IQLAgent\n",
    "Este notebook hace un sanity check de la implementación de `IQLAgent` en todos los juegos disponibles durante al menos 10 episodes."
   ]
  },
  {
   "cell_type": "code",
   "execution_count": 1,
   "id": "688e67ca",
   "metadata": {},
   "outputs": [],
   "source": [
    "import numpy as np\n",
    "import matplotlib.pyplot as plt\n",
    "\n",
    "from games.rps import RPS\n",
    "from games.mp import MP\n",
    "from games.blotto import Blotto\n",
    "from games.foraging import Foraging\n",
    "from agents.iql_agent import IQLAgent, IQLAgentConfig"
   ]
  },
  {
   "cell_type": "markdown",
   "id": "ebabe8cd",
   "metadata": {},
   "source": [
    "## Definir juegos y configuraciones\n",
    "Define los juegos a probar y sus configuraciones."
   ]
  },
  {
   "cell_type": "code",
   "execution_count": 2,
   "id": "e2993e58",
   "metadata": {},
   "outputs": [],
   "source": [
    "games_to_test = [\n",
    "    {\"name\": \"RPS\", \"game\": RPS, \"config\": {}},\n",
    "    {\"name\": \"MP\", \"game\": MP, \"config\": {}},\n",
    "    {\"name\": \"Blotto\", \"game\": Blotto, \"config\": {\"S\": 3, \"N\": 2}},\n",
    "    {\"name\": \"Foraging\", \"game\": Foraging, \"config\": {\"config\": \"Foraging-5x5-2p-1f-v3\", \"seed\": 1}},\n",
    "]\n",
    "\n",
    "def get_game_instance(game_entry):\n",
    "    if game_entry[\"name\"] == \"Blotto\":\n",
    "        return game_entry[\"game\"](**game_entry[\"config\"])\n",
    "    elif game_entry[\"name\"] == \"Foraging\":\n",
    "        return game_entry[\"game\"](**game_entry[\"config\"])\n",
    "    else:\n",
    "        return game_entry[\"game\"]()"
   ]
  },
  {
   "cell_type": "markdown",
   "id": "5523386f",
   "metadata": {},
   "source": [
    "## Inicializar IQLAgent para cada juego\n",
    "Para cada juego, inicializa el `IQLAgent` para todos los agentes en el entorno."
   ]
  },
  {
   "cell_type": "code",
   "execution_count": null,
   "id": "b46d4d48",
   "metadata": {},
   "outputs": [],
   "source": [
    "def create_agents(game):\n",
    "    config = IQLAgentConfig(alpha=0.1, min_epsilon=0.01, seed=1)\n",
    "    return {agent: IQLAgent(game=game, agent=agent, config=config) for agent in game.agents}"
   ]
  },
  {
   "cell_type": "markdown",
   "id": "0e4176f0",
   "metadata": {},
   "source": [
    "## Correr episodios para cada juego\n",
    "Ejecuta al menos 10 episodes por juego y recolecta las cumulative rewards."
   ]
  },
  {
   "cell_type": "code",
   "execution_count": null,
   "id": "b1aba9e7",
   "metadata": {},
   "outputs": [],
   "source": [
    "def play_episodes(game, agents, episodes=10):\n",
    "    recompensas = {agent: 0.0 for agent in game.agents}\n",
    "    for ep in range(episodes):\n",
    "        game.reset()\n",
    "        for agent in agents.values():\n",
    "            agent.reset()\n",
    "        terminado = False\n",
    "        while not getattr(game, 'done', lambda: True)() and not all(game.terminations.values()):\n",
    "            acciones = {agent: agents[agent].action() for agent in game.agents}\n",
    "            game.step(acciones)\n",
    "            for agent in game.agents:\n",
    "                agents[agent].update()\n",
    "                recompensas[agent] += game.reward(agent)\n",
    "    return recompensas"
   ]
  },
  {
   "cell_type": "markdown",
   "id": "1a92071a",
   "metadata": {},
   "source": [
    "## Mostrar resultados\n",
    "Mostrar las cumulative rewards para cada Agent en cada game después de 10 episodes."
   ]
  },
  {
   "cell_type": "code",
   "execution_count": 5,
   "id": "99c17ff1",
   "metadata": {},
   "outputs": [
    {
     "name": "stdout",
     "output_type": "stream",
     "text": [
      "\n",
      "Probando RPS...\n",
      "Agente agent_0: Recompensa total en 10 episodios: 0.0\n",
      "Agente agent_1: Recompensa total en 10 episodios: 0.0\n",
      "\n",
      "Probando MP...\n",
      "Agente agent_0: Recompensa total en 10 episodios: 0.0\n",
      "Agente agent_1: Recompensa total en 10 episodios: 0.0\n",
      "\n",
      "Probando Blotto...\n",
      "Agente agent_0: Recompensa total en 10 episodios: 0.0\n",
      "Agente agent_1: Recompensa total en 10 episodios: 0.0\n",
      "\n",
      "Probando Foraging...\n",
      "Agente agent_0: Recompensa total en 10 episodios: 3.0\n",
      "Agente agent_1: Recompensa total en 10 episodios: 0.0\n"
     ]
    },
    {
     "name": "stderr",
     "output_type": "stream",
     "text": [
      "/opt/homebrew/Caskroom/miniconda/base/envs/py311/lib/python3.11/site-packages/gymnasium/utils/passive_env_checker.py:245: UserWarning: \u001b[33mWARN: The reward returned by `step()` must be a float, int, np.integer or np.floating, actual type: <class 'list'>\u001b[0m\n",
      "  logger.warn(\n"
     ]
    }
   ],
   "source": [
    "resultados = {}\n",
    "for entry in games_to_test:\n",
    "    print(f\"\\nProbando {entry['name']}...\")\n",
    "    game = get_game_instance(entry)\n",
    "    agents = create_agents(game)\n",
    "    recompensas = play_episodes(game, agents, episodes=10)\n",
    "    resultados[entry['name']] = recompensas\n",
    "    for agent, recompensa in recompensas.items():\n",
    "        print(f\"Agente {agent}: Recompensa total en 10 episodios: {recompensa}\")"
   ]
  }
 ],
 "metadata": {
  "kernelspec": {
   "display_name": "py311",
   "language": "python",
   "name": "python3"
  },
  "language_info": {
   "codemirror_mode": {
    "name": "ipython",
    "version": 3
   },
   "file_extension": ".py",
   "mimetype": "text/x-python",
   "name": "python",
   "nbconvert_exporter": "python",
   "pygments_lexer": "ipython3",
   "version": "3.11.11"
  }
 },
 "nbformat": 4,
 "nbformat_minor": 5
}
